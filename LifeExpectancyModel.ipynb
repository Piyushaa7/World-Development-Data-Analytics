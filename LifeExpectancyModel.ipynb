{
 "cells": [
  {
   "cell_type": "code",
   "execution_count": 27,
   "metadata": {},
   "outputs": [
    {
     "name": "stdout",
     "output_type": "stream",
     "text": [
      "Requirement already satisfied: tensorflow in c:\\users\\piyus\\appdata\\local\\programs\\python\\python311\\lib\\site-packages (2.15.0)\n",
      "Requirement already satisfied: tensorflow-intel==2.15.0 in c:\\users\\piyus\\appdata\\local\\programs\\python\\python311\\lib\\site-packages (from tensorflow) (2.15.0)\n",
      "Requirement already satisfied: absl-py>=1.0.0 in c:\\users\\piyus\\appdata\\local\\programs\\python\\python311\\lib\\site-packages (from tensorflow-intel==2.15.0->tensorflow) (2.0.0)\n",
      "Requirement already satisfied: astunparse>=1.6.0 in c:\\users\\piyus\\appdata\\local\\programs\\python\\python311\\lib\\site-packages (from tensorflow-intel==2.15.0->tensorflow) (1.6.3)\n",
      "Requirement already satisfied: flatbuffers>=23.5.26 in c:\\users\\piyus\\appdata\\local\\programs\\python\\python311\\lib\\site-packages (from tensorflow-intel==2.15.0->tensorflow) (23.5.26)\n",
      "Requirement already satisfied: gast!=0.5.0,!=0.5.1,!=0.5.2,>=0.2.1 in c:\\users\\piyus\\appdata\\local\\programs\\python\\python311\\lib\\site-packages (from tensorflow-intel==2.15.0->tensorflow) (0.5.4)\n",
      "Requirement already satisfied: google-pasta>=0.1.1 in c:\\users\\piyus\\appdata\\local\\programs\\python\\python311\\lib\\site-packages (from tensorflow-intel==2.15.0->tensorflow) (0.2.0)\n",
      "Requirement already satisfied: h5py>=2.9.0 in c:\\users\\piyus\\appdata\\local\\programs\\python\\python311\\lib\\site-packages (from tensorflow-intel==2.15.0->tensorflow) (3.10.0)\n",
      "Requirement already satisfied: libclang>=13.0.0 in c:\\users\\piyus\\appdata\\local\\programs\\python\\python311\\lib\\site-packages (from tensorflow-intel==2.15.0->tensorflow) (16.0.6)\n",
      "Requirement already satisfied: ml-dtypes~=0.2.0 in c:\\users\\piyus\\appdata\\local\\programs\\python\\python311\\lib\\site-packages (from tensorflow-intel==2.15.0->tensorflow) (0.2.0)\n",
      "Requirement already satisfied: numpy<2.0.0,>=1.23.5 in c:\\users\\piyus\\appdata\\local\\programs\\python\\python311\\lib\\site-packages (from tensorflow-intel==2.15.0->tensorflow) (1.26.1)\n",
      "Requirement already satisfied: opt-einsum>=2.3.2 in c:\\users\\piyus\\appdata\\local\\programs\\python\\python311\\lib\\site-packages (from tensorflow-intel==2.15.0->tensorflow) (3.3.0)\n",
      "Requirement already satisfied: packaging in c:\\users\\piyus\\appdata\\local\\programs\\python\\python311\\lib\\site-packages (from tensorflow-intel==2.15.0->tensorflow) (23.2)\n",
      "Requirement already satisfied: protobuf!=4.21.0,!=4.21.1,!=4.21.2,!=4.21.3,!=4.21.4,!=4.21.5,<5.0.0dev,>=3.20.3 in c:\\users\\piyus\\appdata\\local\\programs\\python\\python311\\lib\\site-packages (from tensorflow-intel==2.15.0->tensorflow) (4.23.4)\n",
      "Requirement already satisfied: setuptools in c:\\users\\piyus\\appdata\\local\\programs\\python\\python311\\lib\\site-packages (from tensorflow-intel==2.15.0->tensorflow) (65.5.0)\n",
      "Requirement already satisfied: six>=1.12.0 in c:\\users\\piyus\\appdata\\local\\programs\\python\\python311\\lib\\site-packages (from tensorflow-intel==2.15.0->tensorflow) (1.16.0)\n",
      "Requirement already satisfied: termcolor>=1.1.0 in c:\\users\\piyus\\appdata\\local\\programs\\python\\python311\\lib\\site-packages (from tensorflow-intel==2.15.0->tensorflow) (2.3.0)\n",
      "Requirement already satisfied: typing-extensions>=3.6.6 in c:\\users\\piyus\\appdata\\local\\programs\\python\\python311\\lib\\site-packages (from tensorflow-intel==2.15.0->tensorflow) (4.8.0)\n",
      "Requirement already satisfied: wrapt<1.15,>=1.11.0 in c:\\users\\piyus\\appdata\\local\\programs\\python\\python311\\lib\\site-packages (from tensorflow-intel==2.15.0->tensorflow) (1.14.1)\n",
      "Requirement already satisfied: tensorflow-io-gcs-filesystem>=0.23.1 in c:\\users\\piyus\\appdata\\local\\programs\\python\\python311\\lib\\site-packages (from tensorflow-intel==2.15.0->tensorflow) (0.31.0)\n",
      "Requirement already satisfied: grpcio<2.0,>=1.24.3 in c:\\users\\piyus\\appdata\\local\\programs\\python\\python311\\lib\\site-packages (from tensorflow-intel==2.15.0->tensorflow) (1.59.3)\n",
      "Requirement already satisfied: tensorboard<2.16,>=2.15 in c:\\users\\piyus\\appdata\\local\\programs\\python\\python311\\lib\\site-packages (from tensorflow-intel==2.15.0->tensorflow) (2.15.1)\n",
      "Requirement already satisfied: tensorflow-estimator<2.16,>=2.15.0 in c:\\users\\piyus\\appdata\\local\\programs\\python\\python311\\lib\\site-packages (from tensorflow-intel==2.15.0->tensorflow) (2.15.0)\n",
      "Requirement already satisfied: keras<2.16,>=2.15.0 in c:\\users\\piyus\\appdata\\local\\programs\\python\\python311\\lib\\site-packages (from tensorflow-intel==2.15.0->tensorflow) (2.15.0)\n",
      "Requirement already satisfied: wheel<1.0,>=0.23.0 in c:\\users\\piyus\\appdata\\local\\programs\\python\\python311\\lib\\site-packages (from astunparse>=1.6.0->tensorflow-intel==2.15.0->tensorflow) (0.41.3)\n",
      "Requirement already satisfied: google-auth<3,>=1.6.3 in c:\\users\\piyus\\appdata\\local\\programs\\python\\python311\\lib\\site-packages (from tensorboard<2.16,>=2.15->tensorflow-intel==2.15.0->tensorflow) (2.23.4)\n",
      "Requirement already satisfied: google-auth-oauthlib<2,>=0.5 in c:\\users\\piyus\\appdata\\local\\programs\\python\\python311\\lib\\site-packages (from tensorboard<2.16,>=2.15->tensorflow-intel==2.15.0->tensorflow) (1.1.0)\n",
      "Requirement already satisfied: markdown>=2.6.8 in c:\\users\\piyus\\appdata\\local\\programs\\python\\python311\\lib\\site-packages (from tensorboard<2.16,>=2.15->tensorflow-intel==2.15.0->tensorflow) (3.5.1)\n",
      "Requirement already satisfied: requests<3,>=2.21.0 in c:\\users\\piyus\\appdata\\local\\programs\\python\\python311\\lib\\site-packages (from tensorboard<2.16,>=2.15->tensorflow-intel==2.15.0->tensorflow) (2.31.0)\n",
      "Requirement already satisfied: tensorboard-data-server<0.8.0,>=0.7.0 in c:\\users\\piyus\\appdata\\local\\programs\\python\\python311\\lib\\site-packages (from tensorboard<2.16,>=2.15->tensorflow-intel==2.15.0->tensorflow) (0.7.2)\n",
      "Requirement already satisfied: werkzeug>=1.0.1 in c:\\users\\piyus\\appdata\\local\\programs\\python\\python311\\lib\\site-packages (from tensorboard<2.16,>=2.15->tensorflow-intel==2.15.0->tensorflow) (3.0.1)\n",
      "Requirement already satisfied: cachetools<6.0,>=2.0.0 in c:\\users\\piyus\\appdata\\local\\programs\\python\\python311\\lib\\site-packages (from google-auth<3,>=1.6.3->tensorboard<2.16,>=2.15->tensorflow-intel==2.15.0->tensorflow) (5.3.2)\n",
      "Requirement already satisfied: pyasn1-modules>=0.2.1 in c:\\users\\piyus\\appdata\\local\\programs\\python\\python311\\lib\\site-packages (from google-auth<3,>=1.6.3->tensorboard<2.16,>=2.15->tensorflow-intel==2.15.0->tensorflow) (0.3.0)\n",
      "Requirement already satisfied: rsa<5,>=3.1.4 in c:\\users\\piyus\\appdata\\local\\programs\\python\\python311\\lib\\site-packages (from google-auth<3,>=1.6.3->tensorboard<2.16,>=2.15->tensorflow-intel==2.15.0->tensorflow) (4.9)\n",
      "Requirement already satisfied: requests-oauthlib>=0.7.0 in c:\\users\\piyus\\appdata\\local\\programs\\python\\python311\\lib\\site-packages (from google-auth-oauthlib<2,>=0.5->tensorboard<2.16,>=2.15->tensorflow-intel==2.15.0->tensorflow) (1.3.1)\n",
      "Requirement already satisfied: charset-normalizer<4,>=2 in c:\\users\\piyus\\appdata\\local\\programs\\python\\python311\\lib\\site-packages (from requests<3,>=2.21.0->tensorboard<2.16,>=2.15->tensorflow-intel==2.15.0->tensorflow) (3.3.2)\n",
      "Requirement already satisfied: idna<4,>=2.5 in c:\\users\\piyus\\appdata\\local\\programs\\python\\python311\\lib\\site-packages (from requests<3,>=2.21.0->tensorboard<2.16,>=2.15->tensorflow-intel==2.15.0->tensorflow) (3.4)\n",
      "Requirement already satisfied: urllib3<3,>=1.21.1 in c:\\users\\piyus\\appdata\\local\\programs\\python\\python311\\lib\\site-packages (from requests<3,>=2.21.0->tensorboard<2.16,>=2.15->tensorflow-intel==2.15.0->tensorflow) (2.1.0)\n",
      "Requirement already satisfied: certifi>=2017.4.17 in c:\\users\\piyus\\appdata\\local\\programs\\python\\python311\\lib\\site-packages (from requests<3,>=2.21.0->tensorboard<2.16,>=2.15->tensorflow-intel==2.15.0->tensorflow) (2023.11.17)\n",
      "Requirement already satisfied: MarkupSafe>=2.1.1 in c:\\users\\piyus\\appdata\\local\\programs\\python\\python311\\lib\\site-packages (from werkzeug>=1.0.1->tensorboard<2.16,>=2.15->tensorflow-intel==2.15.0->tensorflow) (2.1.3)\n",
      "Requirement already satisfied: pyasn1<0.6.0,>=0.4.6 in c:\\users\\piyus\\appdata\\local\\programs\\python\\python311\\lib\\site-packages (from pyasn1-modules>=0.2.1->google-auth<3,>=1.6.3->tensorboard<2.16,>=2.15->tensorflow-intel==2.15.0->tensorflow) (0.5.1)\n",
      "Requirement already satisfied: oauthlib>=3.0.0 in c:\\users\\piyus\\appdata\\local\\programs\\python\\python311\\lib\\site-packages (from requests-oauthlib>=0.7.0->google-auth-oauthlib<2,>=0.5->tensorboard<2.16,>=2.15->tensorflow-intel==2.15.0->tensorflow) (3.2.2)\n",
      "Note: you may need to restart the kernel to use updated packages.\n"
     ]
    },
    {
     "name": "stderr",
     "output_type": "stream",
     "text": [
      "\n",
      "[notice] A new release of pip is available: 23.3.1 -> 24.0\n",
      "[notice] To update, run: python.exe -m pip install --upgrade pip\n"
     ]
    }
   ],
   "source": [
    "%pip install tensorflow"
   ]
  },
  {
   "cell_type": "code",
   "execution_count": 28,
   "metadata": {},
   "outputs": [],
   "source": [
    "import pandas as pd\n",
    "from sklearn.model_selection import train_test_split\n",
    "from sklearn.preprocessing import StandardScaler, OneHotEncoder\n",
    "from sklearn.compose import ColumnTransformer\n",
    "from sklearn.metrics import mean_squared_error\n",
    "from tensorflow.keras.models import Sequential\n",
    "from tensorflow.keras.layers import Dense"
   ]
  },
  {
   "cell_type": "code",
   "execution_count": 29,
   "metadata": {},
   "outputs": [],
   "source": [
    "df = pd.read_csv('cleaned_data.csv')"
   ]
  },
  {
   "cell_type": "code",
   "execution_count": 30,
   "metadata": {},
   "outputs": [],
   "source": [
    "# Split features and target variable\n",
    "X = df.drop(columns=['Life expectancy at birth (years)', 'Country Name'])\n",
    "y = df['Life expectancy at birth (years)']"
   ]
  },
  {
   "cell_type": "code",
   "execution_count": 31,
   "metadata": {},
   "outputs": [],
   "source": [
    "# Define categorical and numerical columns\n",
    "categorical_cols = ['Region','IncomeGroup']  # Add other categorical columns if any\n",
    "numerical_cols = [col for col in X.columns if col not in categorical_cols]"
   ]
  },
  {
   "cell_type": "code",
   "execution_count": 32,
   "metadata": {},
   "outputs": [],
   "source": [
    "# Preprocess categorical and numerical features separately\n",
    "preprocessor = ColumnTransformer(\n",
    "    transformers=[\n",
    "        ('num', StandardScaler(), numerical_cols),  # Standardize numerical features\n",
    "        ('cat', OneHotEncoder(), categorical_cols)  # One-hot encode categorical features\n",
    "    ])\n"
   ]
  },
  {
   "cell_type": "code",
   "execution_count": 33,
   "metadata": {},
   "outputs": [],
   "source": [
    "# Split the data into training and testing sets\n",
    "X_train, X_test, y_train, y_test = train_test_split(X, y, test_size=0.2, random_state=42)"
   ]
  },
  {
   "cell_type": "code",
   "execution_count": 34,
   "metadata": {},
   "outputs": [],
   "source": [
    "# Apply preprocessing\n",
    "X_train_preprocessed = preprocessor.fit_transform(X_train)\n",
    "X_test_preprocessed = preprocessor.transform(X_test)"
   ]
  },
  {
   "cell_type": "code",
   "execution_count": 35,
   "metadata": {},
   "outputs": [],
   "source": [
    "model = Sequential([\n",
    "    Dense(64, activation='relu', input_shape=(X_train_preprocessed.shape[1],)),\n",
    "    Dense(64, activation='relu'),\n",
    "    Dense(1)  \n",
    "])"
   ]
  },
  {
   "cell_type": "code",
   "execution_count": 36,
   "metadata": {},
   "outputs": [
    {
     "name": "stdout",
     "output_type": "stream",
     "text": [
      "WARNING:tensorflow:From c:\\Users\\piyus\\AppData\\Local\\Programs\\Python\\Python311\\Lib\\site-packages\\keras\\src\\optimizers\\__init__.py:309: The name tf.train.Optimizer is deprecated. Please use tf.compat.v1.train.Optimizer instead.\n",
      "\n"
     ]
    }
   ],
   "source": [
    "# Compile the model\n",
    "model.compile(optimizer='adam', loss='mean_squared_error')"
   ]
  },
  {
   "cell_type": "code",
   "execution_count": 37,
   "metadata": {},
   "outputs": [
    {
     "name": "stdout",
     "output_type": "stream",
     "text": [
      "Epoch 1/50\n",
      "WARNING:tensorflow:From c:\\Users\\piyus\\AppData\\Local\\Programs\\Python\\Python311\\Lib\\site-packages\\keras\\src\\utils\\tf_utils.py:492: The name tf.ragged.RaggedTensorValue is deprecated. Please use tf.compat.v1.ragged.RaggedTensorValue instead.\n",
      "\n",
      "165/165 [==============================] - 1s 2ms/step - loss: 2644.1152 - val_loss: 110.8638\n",
      "Epoch 2/50\n",
      "165/165 [==============================] - 0s 2ms/step - loss: 61.0168 - val_loss: 38.2023\n",
      "Epoch 3/50\n",
      "165/165 [==============================] - 0s 2ms/step - loss: 32.9741 - val_loss: 24.6510\n",
      "Epoch 4/50\n",
      "165/165 [==============================] - 0s 2ms/step - loss: 22.3770 - val_loss: 17.6454\n",
      "Epoch 5/50\n",
      "165/165 [==============================] - 0s 2ms/step - loss: 16.5553 - val_loss: 13.8521\n",
      "Epoch 6/50\n",
      "165/165 [==============================] - 0s 2ms/step - loss: 12.9027 - val_loss: 11.3321\n",
      "Epoch 7/50\n",
      "165/165 [==============================] - 0s 2ms/step - loss: 10.7168 - val_loss: 9.8401\n",
      "Epoch 8/50\n",
      "165/165 [==============================] - 0s 2ms/step - loss: 9.0775 - val_loss: 8.0966\n",
      "Epoch 9/50\n",
      "165/165 [==============================] - 0s 2ms/step - loss: 7.7866 - val_loss: 7.0473\n",
      "Epoch 10/50\n",
      "165/165 [==============================] - 0s 2ms/step - loss: 6.9007 - val_loss: 6.2667\n",
      "Epoch 11/50\n",
      "165/165 [==============================] - 0s 2ms/step - loss: 6.1911 - val_loss: 5.9383\n",
      "Epoch 12/50\n",
      "165/165 [==============================] - 0s 2ms/step - loss: 5.7209 - val_loss: 5.4439\n",
      "Epoch 13/50\n",
      "165/165 [==============================] - 0s 2ms/step - loss: 5.2776 - val_loss: 5.0848\n",
      "Epoch 14/50\n",
      "165/165 [==============================] - 0s 2ms/step - loss: 4.9689 - val_loss: 5.2282\n",
      "Epoch 15/50\n",
      "165/165 [==============================] - 0s 2ms/step - loss: 4.7384 - val_loss: 4.6711\n",
      "Epoch 16/50\n",
      "165/165 [==============================] - 0s 2ms/step - loss: 4.4972 - val_loss: 4.1860\n",
      "Epoch 17/50\n",
      "165/165 [==============================] - 0s 2ms/step - loss: 4.2063 - val_loss: 3.9626\n",
      "Epoch 18/50\n",
      "165/165 [==============================] - 0s 2ms/step - loss: 4.0497 - val_loss: 3.7562\n",
      "Epoch 19/50\n",
      "165/165 [==============================] - 0s 2ms/step - loss: 3.8522 - val_loss: 3.6779\n",
      "Epoch 20/50\n",
      "165/165 [==============================] - 0s 2ms/step - loss: 3.6523 - val_loss: 3.4036\n",
      "Epoch 21/50\n",
      "165/165 [==============================] - 0s 2ms/step - loss: 3.5388 - val_loss: 3.2930\n",
      "Epoch 22/50\n",
      "165/165 [==============================] - 0s 2ms/step - loss: 3.3691 - val_loss: 3.2063\n",
      "Epoch 23/50\n",
      "165/165 [==============================] - 0s 2ms/step - loss: 3.2408 - val_loss: 3.1368\n",
      "Epoch 24/50\n",
      "165/165 [==============================] - 0s 2ms/step - loss: 3.1148 - val_loss: 3.0672\n",
      "Epoch 25/50\n",
      "165/165 [==============================] - 0s 2ms/step - loss: 3.0005 - val_loss: 3.1643\n",
      "Epoch 26/50\n",
      "165/165 [==============================] - 0s 2ms/step - loss: 2.9265 - val_loss: 2.9048\n",
      "Epoch 27/50\n",
      "165/165 [==============================] - 0s 2ms/step - loss: 2.8588 - val_loss: 3.0218\n",
      "Epoch 28/50\n",
      "165/165 [==============================] - 0s 2ms/step - loss: 2.8255 - val_loss: 2.7027\n",
      "Epoch 29/50\n",
      "165/165 [==============================] - 0s 2ms/step - loss: 2.6562 - val_loss: 2.7556\n",
      "Epoch 30/50\n",
      "165/165 [==============================] - 0s 2ms/step - loss: 2.6820 - val_loss: 2.7512\n",
      "Epoch 31/50\n",
      "165/165 [==============================] - 0s 2ms/step - loss: 2.5798 - val_loss: 2.5330\n",
      "Epoch 32/50\n",
      "165/165 [==============================] - 0s 2ms/step - loss: 2.5284 - val_loss: 2.4659\n",
      "Epoch 33/50\n",
      "165/165 [==============================] - 0s 2ms/step - loss: 2.4439 - val_loss: 2.4928\n",
      "Epoch 34/50\n",
      "165/165 [==============================] - 0s 2ms/step - loss: 2.4077 - val_loss: 2.6388\n",
      "Epoch 35/50\n",
      "165/165 [==============================] - 0s 2ms/step - loss: 2.4179 - val_loss: 2.4232\n",
      "Epoch 36/50\n",
      "165/165 [==============================] - 0s 2ms/step - loss: 2.3640 - val_loss: 2.8098\n",
      "Epoch 37/50\n",
      "165/165 [==============================] - 0s 2ms/step - loss: 2.4244 - val_loss: 2.4721\n",
      "Epoch 38/50\n",
      "165/165 [==============================] - 0s 2ms/step - loss: 2.2074 - val_loss: 2.4068\n",
      "Epoch 39/50\n",
      "165/165 [==============================] - 0s 2ms/step - loss: 2.2350 - val_loss: 2.2354\n",
      "Epoch 40/50\n",
      "165/165 [==============================] - 0s 2ms/step - loss: 2.2052 - val_loss: 2.3666\n",
      "Epoch 41/50\n",
      "165/165 [==============================] - 0s 2ms/step - loss: 2.1542 - val_loss: 2.2227\n",
      "Epoch 42/50\n",
      "165/165 [==============================] - 0s 2ms/step - loss: 2.0816 - val_loss: 2.7740\n",
      "Epoch 43/50\n",
      "165/165 [==============================] - 0s 2ms/step - loss: 2.0530 - val_loss: 2.3049\n",
      "Epoch 44/50\n",
      "165/165 [==============================] - 0s 2ms/step - loss: 2.1563 - val_loss: 2.1797\n",
      "Epoch 45/50\n",
      "165/165 [==============================] - 0s 2ms/step - loss: 1.9435 - val_loss: 2.0652\n",
      "Epoch 46/50\n",
      "165/165 [==============================] - 0s 2ms/step - loss: 1.9968 - val_loss: 2.2016\n",
      "Epoch 47/50\n",
      "165/165 [==============================] - 0s 2ms/step - loss: 1.8947 - val_loss: 2.1109\n",
      "Epoch 48/50\n",
      "165/165 [==============================] - 0s 2ms/step - loss: 1.8802 - val_loss: 2.1244\n",
      "Epoch 49/50\n",
      "165/165 [==============================] - 0s 2ms/step - loss: 1.8500 - val_loss: 2.1019\n",
      "Epoch 50/50\n",
      "165/165 [==============================] - 0s 2ms/step - loss: 1.9158 - val_loss: 2.4862\n"
     ]
    }
   ],
   "source": [
    "# Train the model\n",
    "history = model.fit(X_train_preprocessed, y_train, epochs=50, batch_size=32, validation_split=0.2)\n"
   ]
  },
  {
   "cell_type": "code",
   "execution_count": 38,
   "metadata": {},
   "outputs": [
    {
     "name": "stdout",
     "output_type": "stream",
     "text": [
      "52/52 [==============================] - 0s 849us/step\n",
      "Mean Squared Error: 2.537781797091136\n"
     ]
    }
   ],
   "source": [
    "# Evaluate the model\n",
    "y_pred = model.predict(X_test_preprocessed)\n",
    "mse = mean_squared_error(y_test, y_pred)\n",
    "print(\"Mean Squared Error:\", mse)"
   ]
  },
  {
   "cell_type": "code",
   "execution_count": 39,
   "metadata": {},
   "outputs": [
    {
     "name": "stdout",
     "output_type": "stream",
     "text": [
      "1/1 [==============================] - 0s 15ms/step\n",
      "Predicted Life Expectancy: 60.064648\n"
     ]
    }
   ],
   "source": [
    "# Create a sample input with values for each feature\n",
    "sample_input = pd.DataFrame({\n",
    "    'Region': ['South Asia'],  # Categorical feature\n",
    "    'IncomeGroup': ['Low income'],  # Categorical feature\n",
    "    'Year': [2011],  # Numerical feature\n",
    "    'Birth rate, crude (per 1,000 people)': [39],  # Numerical feature\n",
    "    'Death rate, crude (per 1,000 people)': [8],  # Numerical feature\n",
    "    'Electric power consumption (kWh per capita)': [3540],  # Numerical feature\n",
    "    'GDP (USD in billions)': [18],  # Numerical feature\n",
    "    'GDP per capita (USD)': [600],  # Numerical feature\n",
    "    'Individuals using the Internet (% of population)': [5],  # Numerical feature\n",
    "    'Infant mortality rate (per 1,000 live births)': [60],  # Numerical feature\n",
    "    'Population density (people per sq. km of land area)': [47],  # Numerical feature\n",
    "    'Unemployment (% of total labor force) (modeled ILO estimate)': [2]  # Numerical feature\n",
    "})\n",
    "\n",
    "# Preprocess the sample input using the same preprocessing steps\n",
    "sample_input_preprocessed = preprocessor.transform(sample_input)\n",
    "\n",
    "# Make predictions using the trained model\n",
    "predictions = model.predict(sample_input_preprocessed)\n",
    "\n",
    "# Print the predicted life expectancy\n",
    "print(\"Predicted Life Expectancy:\", predictions[0][0])\n"
   ]
  },
  {
   "cell_type": "markdown",
   "metadata": {},
   "source": [
    "Afghanistan,South Asia,Low income,2011,38.75,7.936,3529.663,17.804,591.162,5.0,61.9,46.132,1.984\n",
    "\n",
    "61.553 - Life Expectancy"
   ]
  }
 ],
 "metadata": {
  "kernelspec": {
   "display_name": "Python 3",
   "language": "python",
   "name": "python3"
  },
  "language_info": {
   "codemirror_mode": {
    "name": "ipython",
    "version": 3
   },
   "file_extension": ".py",
   "mimetype": "text/x-python",
   "name": "python",
   "nbconvert_exporter": "python",
   "pygments_lexer": "ipython3",
   "version": "3.11.3"
  }
 },
 "nbformat": 4,
 "nbformat_minor": 2
}
